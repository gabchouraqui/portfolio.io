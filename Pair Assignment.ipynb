{
 "cells": [
  {
   "cell_type": "markdown",
   "id": "b9bb1efc-4b27-4a07-97b3-43a1d5e8f3fe",
   "metadata": {
    "tags": []
   },
   "source": [
    "# Pair Assignment - Optimization\n",
    "### Victoria Baust - Gabriel Chouraqui"
   ]
  },
  {
   "cell_type": "code",
   "execution_count": 7,
   "id": "f08b543c-981d-4792-90df-fb9b5a129354",
   "metadata": {
    "tags": []
   },
   "outputs": [
    {
     "name": "stdout",
     "output_type": "stream",
     "text": [
      "Total Cost: $2250\n"
     ]
    }
   ],
   "source": [
    "def out_of_district_costs(lab_district, dcc_id, num_swabs):\n",
    "    if lab_district == 'out_of_district':\n",
    "        if num_swabs % 100 == 0:\n",
    "            return 10 * num_swabs\n",
    "        else:\n",
    "            return 15 * num_swabs\n",
    "    else:\n",
    "        return 0\n",
    "\n",
    "# Example usage:\n",
    "lab_district_example = 'out_of_district'\n",
    "dcc_id_example = 'your_dcc_id_here'\n",
    "num_swabs_example = 150  # Adjust the number of swabs as needed\n",
    "\n",
    "total_cost = out_of_district_costs(lab_district_example, dcc_id_example, num_swabs_example)\n",
    "print(f'Total Cost: ${total_cost}')"
   ]
  },
  {
   "cell_type": "code",
   "execution_count": 13,
   "id": "226f4ef6-48d3-49b4-861a-d85f6e18d636",
   "metadata": {
    "tags": []
   },
   "outputs": [
    {
     "name": "stdout",
     "output_type": "stream",
     "text": [
      "Backlog Penalty: $6000\n"
     ]
    }
   ],
   "source": [
    "def backlog_penalty(dcc_swabs, testing_center_capacity):\n",
    "    if dcc_swabs - testing_center_capacity > 0:\n",
    "        return 6000\n",
    "    else:\n",
    "        return 0\n",
    "\n",
    "# Example usage:\n",
    "dcc_swabs_example = 5001  # Adjust the number of DCC swabs as needed\n",
    "testing_center_capacity_example = 5000  # Adjust the testing center capacity as needed\n",
    "\n",
    "penalty_amount = backlog_penalty(dcc_swabs_example, testing_center_capacity_example)\n",
    "print(f'Backlog Penalty: ${penalty_amount}')"
   ]
  },
  {
   "cell_type": "code",
   "execution_count": 14,
   "id": "c4c211f9-adf7-4580-bb90-72bb6672caa6",
   "metadata": {
    "tags": []
   },
   "outputs": [
    {
     "name": "stdout",
     "output_type": "stream",
     "text": [
      "Testing Costs: $800\n"
     ]
    }
   ],
   "source": [
    "def testing_costs(center_type):\n",
    "    if center_type == 'governmental':\n",
    "        return 800\n",
    "    elif center_type == 'private':\n",
    "        return 1600\n",
    "    else:\n",
    "        # Handle other cases, return 0 or raise an exception based on your requirements\n",
    "        return 0\n",
    "\n",
    "# Example usage:\n",
    "center_type_example = 'governmental'  # Adjust the center type as needed\n",
    "\n",
    "cost = testing_costs(center_type_example)\n",
    "print(f'Testing Costs: ${cost}')"
   ]
  },
  {
   "cell_type": "code",
   "execution_count": 23,
   "id": "4e9fccd4-de10-4f3b-b647-7457de62bd6d",
   "metadata": {
    "tags": []
   },
   "outputs": [
    {
     "name": "stdin",
     "output_type": "stream",
     "text": [
      "Enter the number of swabs for lab district 5:  10000\n",
      "Enter the number of swabs for lab district 11:  2700\n"
     ]
    },
    {
     "name": "stdout",
     "output_type": "stream",
     "text": [
      "Scenario 1 is cheaper\n",
      "\n",
      "Cost Breakdown:\n"
     ]
    },
    {
     "data": {
      "text/html": [
       "<div>\n",
       "<style scoped>\n",
       "    .dataframe tbody tr th:only-of-type {\n",
       "        vertical-align: middle;\n",
       "    }\n",
       "\n",
       "    .dataframe tbody tr th {\n",
       "        vertical-align: top;\n",
       "    }\n",
       "\n",
       "    .dataframe thead th {\n",
       "        text-align: right;\n",
       "    }\n",
       "</style>\n",
       "<table border=\"1\" class=\"dataframe\">\n",
       "  <thead>\n",
       "    <tr style=\"text-align: right;\">\n",
       "      <th></th>\n",
       "      <th>Scenario 1 (Lab 5)</th>\n",
       "      <th>Scenario 1 (Lab 11)</th>\n",
       "      <th>Scenario 2 (Lab 5)</th>\n",
       "      <th>Scenario 2 (Lab 11)</th>\n",
       "    </tr>\n",
       "  </thead>\n",
       "  <tbody>\n",
       "    <tr>\n",
       "      <th>Out of District Fee</th>\n",
       "      <td>0</td>\n",
       "      <td>0</td>\n",
       "      <td>0</td>\n",
       "      <td>0</td>\n",
       "    </tr>\n",
       "    <tr>\n",
       "      <th>Backlog Penalties</th>\n",
       "      <td>6000</td>\n",
       "      <td>6000</td>\n",
       "      <td>6000</td>\n",
       "      <td>6000</td>\n",
       "    </tr>\n",
       "    <tr>\n",
       "      <th>Testing Cost</th>\n",
       "      <td>800</td>\n",
       "      <td>800</td>\n",
       "      <td>800</td>\n",
       "      <td>800</td>\n",
       "    </tr>\n",
       "    <tr>\n",
       "      <th>Overload Costs</th>\n",
       "      <td>0</td>\n",
       "      <td>0</td>\n",
       "      <td>29500000</td>\n",
       "      <td>3000000</td>\n",
       "    </tr>\n",
       "  </tbody>\n",
       "</table>\n",
       "</div>"
      ],
      "text/plain": [
       "                     Scenario 1 (Lab 5)  Scenario 1 (Lab 11)  \\\n",
       "Out of District Fee                   0                    0   \n",
       "Backlog Penalties                  6000                 6000   \n",
       "Testing Cost                        800                  800   \n",
       "Overload Costs                        0                    0   \n",
       "\n",
       "                     Scenario 2 (Lab 5)  Scenario 2 (Lab 11)  \n",
       "Out of District Fee                   0                    0  \n",
       "Backlog Penalties                  6000                 6000  \n",
       "Testing Cost                        800                  800  \n",
       "Overload Costs                 29500000              3000000  "
      ]
     },
     "execution_count": 23,
     "metadata": {},
     "output_type": "execute_result"
    }
   ],
   "source": [
    "import math\n",
    "import pandas as pd\n",
    "\n",
    "def out_of_district_costs(lab_district, dcc_id, num_swabs):\n",
    "    if lab_district == 'out_of_district':\n",
    "        if num_swabs % 100 == 0:\n",
    "            return 10 * num_swabs\n",
    "        else:\n",
    "            return 15 * num_swabs\n",
    "    else:\n",
    "        return 0\n",
    "\n",
    "def backlog_penalty(dcc_swabs, testing_center_capacity):\n",
    "    if dcc_swabs - testing_center_capacity > 0:\n",
    "        return 6000\n",
    "    else:\n",
    "        return 0\n",
    "\n",
    "def testing_costs(center_type):\n",
    "    if center_type == 'governmental':\n",
    "        return 800\n",
    "    elif center_type == 'private':\n",
    "        return 1600\n",
    "    else:\n",
    "        return 0\n",
    "\n",
    "def calculate_costs(scenario, lab_district, dcc_id, dcc_swabs, testing_center_capacity, center_type):\n",
    "    out_of_district_fee = out_of_district_costs(lab_district, dcc_id, dcc_swabs)\n",
    "    backlog_penalties = backlog_penalty(dcc_swabs, testing_center_capacity)\n",
    "    testing_cost = testing_costs(center_type)\n",
    "    overload_costs = 0\n",
    "\n",
    "    if scenario == 1:\n",
    "        if lab_district == 5:\n",
    "            shortest_distance = min(testing_centers_data[1]['distance_to_05'],\n",
    "                                    testing_centers_data[12]['distance_to_05'],\n",
    "                                    testing_centers_data[21]['distance_to_05'],\n",
    "                                    testing_centers_data[2]['distance_to_05'])\n",
    "            if shortest_distance > 20:\n",
    "                out_of_district_fee = out_of_district_costs('out_of_district', dcc_id, dcc_swabs)\n",
    "        elif lab_district == 11:\n",
    "            shortest_distance = min(testing_centers_data[10]['distance_to_11'],\n",
    "                                    testing_centers_data[28]['distance_to_11'])\n",
    "            if shortest_distance > 20:\n",
    "                out_of_district_fee = out_of_district_costs('out_of_district', dcc_id, dcc_swabs)\n",
    "\n",
    "    elif scenario == 2:\n",
    "        if lab_district == 5:\n",
    "            shortest_distance = min(testing_centers_data[1]['distance_to_05'],\n",
    "                                    testing_centers_data[12]['distance_to_05'],\n",
    "                                    testing_centers_data[21]['distance_to_05'],\n",
    "                                    testing_centers_data[2]['distance_to_05'])\n",
    "            if shortest_distance > 20 and testing_centers_data[1]['lab_district'] != 5:\n",
    "                out_of_district_fee = out_of_district_costs('out_of_district', dcc_id, dcc_swabs)\n",
    "            if testing_centers_data[1]['lab_district'] == 5:\n",
    "                new_capacity = testing_centers_data[1]['capacity'] + 100\n",
    "                overload_used = dcc_swabs > new_capacity\n",
    "                if overload_used:\n",
    "                    overload_costs = 5000 * (dcc_swabs - new_capacity)\n",
    "\n",
    "        elif lab_district == 11:\n",
    "            shortest_distance = min(testing_centers_data[10]['distance_to_11'],\n",
    "                                    testing_centers_data[28]['distance_to_11'])\n",
    "            if shortest_distance > 20 and testing_centers_data[10]['lab_district'] != 11:\n",
    "                out_of_district_fee = out_of_district_costs('out_of_district', dcc_id, dcc_swabs)\n",
    "            if testing_centers_data[10]['lab_district'] == 11:\n",
    "                new_capacity = testing_centers_data[10]['capacity'] + 100\n",
    "                overload_used = dcc_swabs > new_capacity\n",
    "                if overload_used:\n",
    "                    overload_costs = 5000 * (dcc_swabs - new_capacity)\n",
    "\n",
    "    return out_of_district_fee, backlog_penalties, testing_cost, overload_costs\n",
    "\n",
    "# Testing centers data\n",
    "testing_centers_data = {\n",
    "    1: {'lab_district': 5, 'center_type': 'governmental', 'capacity': 4000, 'distance_to_05': 3.31, 'distance_to_11': 298.35},\n",
    "\n",
    "    12: {'lab_district': 5, 'center_type': 'private', 'capacity': 2500, 'distance_to_05': 1.52, 'distance_to_11': 296.56},\n",
    "\n",
    "    21: {'lab_district': 5, 'center_type': 'private', 'capacity': 2500, 'distance_to_05': 297.64, 'distance_to_11': 1.99},\n",
    "\n",
    "    2: {'lab_district': 5, 'center_type': 'governmental', 'capacity': 3000, 'distance_to_05': 11.76, 'distance_to_11': 297.59},\n",
    "\n",
    "    10: {'lab_district': 11, 'center_type': 'governmental', 'capacity': 2000, 'distance_to_05': 2.59, 'distance_to_11': 300.12},\n",
    "\n",
    "    28: {'lab_district': 11, 'center_type': 'private', 'capacity': 2000, 'distance_to_05': 293.91, 'distance_to_11': 9.28}\n",
    "}\n",
    "\n",
    "# User input\n",
    "dcc_swabs_5 = int(input(\"Enter the number of swabs for lab district 5: \"))\n",
    "dcc_swabs_11 = int(input(\"Enter the number of swabs for lab district 11: \"))\n",
    "\n",
    "# Scenario 1\n",
    "scenario1_costs_5 = calculate_costs(1, 5, 5, dcc_swabs_5, testing_centers_data[1]['capacity'], 'governmental')\n",
    "scenario1_costs_11 = calculate_costs(1, 11, 11, dcc_swabs_11, testing_centers_data[10]['capacity'], 'governmental')\n",
    "\n",
    "# Scenario 2\n",
    "scenario2_costs_5 = calculate_costs(2, 5, 5, dcc_swabs_5, testing_centers_data[1]['capacity'], 'governmental')\n",
    "scenario2_costs_11 = calculate_costs(2, 11, 11, dcc_swabs_11, testing_centers_data[10]['capacity'], 'governmental')\n",
    "\n",
    "# Compare scenarios\n",
    "scenario1_total = sum(scenario1_costs_5) + sum(scenario1_costs_11)\n",
    "scenario2_total = sum(scenario2_costs_5) + sum(scenario2_costs_11)\n",
    "\n",
    "if scenario1_total < scenario2_total:\n",
    "    print(\"Scenario 1 is cheaper\")\n",
    "else:\n",
    "    print(\"Scenario 2 is cheaper\")\n",
    "\n",
    "# Create DataFrame\n",
    "data = {\n",
    "    'Scenario 1 (Lab 5)': list(scenario1_costs_5),\n",
    "    'Scenario 1 (Lab 11)': list(scenario1_costs_11),\n",
    "    'Scenario 2 (Lab 5)': list(scenario2_costs_5),\n",
    "    'Scenario 2 (Lab 11)': list(scenario2_costs_11)\n",
    "}\n",
    "index = ['Out of District Fee', 'Backlog Penalties', 'Testing Cost', 'Overload Costs']\n",
    "df = pd.DataFrame(data, index=index)\n",
    "\n",
    "print(\"\\nCost Breakdown:\")\n",
    "df\n"
   ]
  },
  {
   "cell_type": "code",
   "execution_count": 27,
   "id": "7b5a1094-a947-4c77-93e6-9735ba071190",
   "metadata": {
    "tags": []
   },
   "outputs": [
    {
     "name": "stdin",
     "output_type": "stream",
     "text": [
      "Enter DCC swabs for DCC_ID 5:  10000\n",
      "Enter DCC swabs for DCC_ID 11:  2700\n"
     ]
    },
    {
     "name": "stdout",
     "output_type": "stream",
     "text": [
      "Optimal Allocations: {'05': {}, '11': {}}\n",
      "Total Costs: 0\n"
     ]
    }
   ],
   "source": [
    "import pandas as pd\n",
    "\n",
    "# Hard-coded data\n",
    "data = {\n",
    "    'lab_ID': [1, 12, 21, 2, 10, 28],\n",
    "    'lab_district': [5, 5, 5, 5, 11, 11],\n",
    "    'center_type': ['Governmental', 'Private', 'Private', 'Governmental', 'Governmental', 'Private'],\n",
    "    'capacity': [4000, 2500, 2500, 3000, 2000, 2000],\n",
    "    'distance_to_05': [3.31, 1.52, 297.64, 11.76, 2.59, 293.91],\n",
    "    'distance_to_11': [298.35, 296.56, 1.99, 297.59, 300.12, 9.28]\n",
    "}\n",
    "\n",
    "df = pd.DataFrame(data)\n",
    "\n",
    "def out_of_district_costs(lab_district, dcc_id, num_swabs):\n",
    "    if lab_district == 'out_of_district':\n",
    "        if num_swabs % 100 == 0:\n",
    "            return 10 * num_swabs\n",
    "        else:\n",
    "            return 15 * num_swabs\n",
    "    else:\n",
    "        return 0\n",
    "\n",
    "def backlog_penalty(dcc_swabs, testing_center_capacity):\n",
    "    if dcc_swabs - testing_center_capacity > 0:\n",
    "        return 6000\n",
    "    else:\n",
    "        return 0\n",
    "\n",
    "def testing_costs(center_type):\n",
    "    if center_type == 'Governmental':\n",
    "        return 800\n",
    "    elif center_type == 'Private':\n",
    "        return 1600\n",
    "    else:\n",
    "        return 0\n",
    "\n",
    "def optimize_allocation(dcc_swabs_05, dcc_swabs_11):\n",
    "    allocated_swabs = {'05': {}, '11': {}}\n",
    "    total_costs = 0\n",
    "    \n",
    "    sorted_centers = df.sort_values(by='capacity', ascending=False)\n",
    "\n",
    "    for dcc_id, allocations in allocated_swabs.items():\n",
    "        for lab_id, num_swabs in allocations.items():\n",
    "            if str(lab_id).startswith('backlog'):\n",
    "                total_costs += backlog_penalty(num_swabs, df.loc[df['lab_ID'] == int(lab_id.split('_')[1])]['capacity'].values[0])\n",
    "            else:\n",
    "                for index, row in sorted_centers.iterrows():\n",
    "                    lab_id = row['lab_ID']\n",
    "                    center_type = row['center_type']\n",
    "                    capacity = row['capacity']\n",
    "\n",
    "                    # Check if capacity is available\n",
    "                    if allocated_swabs[dcc_id].get(lab_id, 0) + dcc_swabs <= capacity:\n",
    "                        allocated_swabs[dcc_id][lab_id] = allocated_swabs[dcc_id].get(lab_id, 0) + dcc_swabs\n",
    "                        break\n",
    "                    else:\n",
    "                        # If capacity is not available, create backlog and add backlog_penalty\n",
    "                        backlog = dcc_swabs - (allocated_swabs[dcc_id].get(lab_id, 0) + capacity)\n",
    "                        allocated_swabs[dcc_id][lab_id] = capacity\n",
    "                        allocated_swabs[dcc_id][f'backlog_{lab_id}'] = backlog\n",
    "                        break\n",
    "\n",
    "    for dcc_id, allocations in allocated_swabs.items():\n",
    "        for lab_id, num_swabs in allocations.items():\n",
    "            if lab_id.startswith('backlog'):\n",
    "                total_costs += backlog_penalty(num_swabs, df.loc[df['lab_ID'] == int(lab_id.split('_')[1])]['capacity'].values[0])\n",
    "            else:\n",
    "                total_costs += out_of_district_costs('in_district', dcc_id, num_swabs)\n",
    "                total_costs += testing_costs(df.loc[df['lab_ID'] == lab_id]['center_type'].values[0]) * num_swabs\n",
    "\n",
    "    return allocated_swabs, total_costs\n",
    "\n",
    "# Example usage\n",
    "dcc_swabs_05 = int(input(\"Enter DCC swabs for DCC_ID 5: \"))\n",
    "dcc_swabs_11 = int(input(\"Enter DCC swabs for DCC_ID 11: \"))\n",
    "\n",
    "allocations, total_costs = optimize_allocation(dcc_swabs_05, dcc_swabs_11)\n",
    "print(\"Optimal Allocations:\", allocations)\n",
    "print(\"Total Costs:\", total_costs)\n"
   ]
  },
  {
   "cell_type": "code",
   "execution_count": null,
   "id": "09762abf-3d99-4f77-979a-2b8d3c7f0cea",
   "metadata": {},
   "outputs": [],
   "source": []
  },
  {
   "cell_type": "code",
   "execution_count": null,
   "id": "75fdbdf7-7986-4016-b12f-734a29d4c3ae",
   "metadata": {},
   "outputs": [],
   "source": []
  },
  {
   "cell_type": "code",
   "execution_count": null,
   "id": "6d5b8947-cdaa-4566-9fa1-e54c27f4431a",
   "metadata": {},
   "outputs": [],
   "source": []
  },
  {
   "cell_type": "code",
   "execution_count": null,
   "id": "963acd28-895c-4899-88a6-b53b04bd0421",
   "metadata": {},
   "outputs": [],
   "source": []
  },
  {
   "cell_type": "code",
   "execution_count": null,
   "id": "7a968e4d-780f-4e07-bc9c-f367e1e5b327",
   "metadata": {},
   "outputs": [],
   "source": []
  },
  {
   "cell_type": "code",
   "execution_count": null,
   "id": "0d109f69-32ae-4a29-9cbf-c98ef1d6e2c6",
   "metadata": {},
   "outputs": [],
   "source": []
  },
  {
   "cell_type": "code",
   "execution_count": null,
   "id": "8bb9c600-c27f-44e9-9c2c-76460e7f9cdb",
   "metadata": {},
   "outputs": [],
   "source": []
  },
  {
   "cell_type": "code",
   "execution_count": null,
   "id": "cf6b7ce4-e49e-4e39-96d8-0cbc8edee64c",
   "metadata": {},
   "outputs": [],
   "source": []
  }
 ],
 "metadata": {
  "kernelspec": {
   "display_name": "Python 3 (ipykernel)",
   "language": "python",
   "name": "python3"
  },
  "language_info": {
   "codemirror_mode": {
    "name": "ipython",
    "version": 3
   },
   "file_extension": ".py",
   "mimetype": "text/x-python",
   "name": "python",
   "nbconvert_exporter": "python",
   "pygments_lexer": "ipython3",
   "version": "3.11.5"
  }
 },
 "nbformat": 4,
 "nbformat_minor": 5
}
